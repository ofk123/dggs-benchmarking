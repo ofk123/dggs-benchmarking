{
 "cells": [
  {
   "cell_type": "markdown",
   "id": "883368a0-76c6-47a2-b2bc-d27e3c982495",
   "metadata": {},
   "source": [
    "The docker image is availabe with following path\n",
    "```\n",
    "docker.io/tinaok/eopf-webiner6-docker:eopf\n",
    "```\n"
   ]
  },
  {
   "cell_type": "code",
   "execution_count": null,
   "id": "43d9affd-a01e-40a5-be58-8e3d0c3fb255",
   "metadata": {},
   "outputs": [],
   "source": [
    "!tar -xvf /home/jovyan/grid4earth_S2L1B/Sentinel-2/MSI/MSI_L1B_GR/2025/07/24/S2A_OPER_MSI_L1B_GR_2APS_20250724T145646_S20250724T112807_D06_N05.11.tar"
   ]
  },
  {
   "cell_type": "code",
   "execution_count": null,
   "id": "a1ec316d-7f7d-4958-bd79-8d213b53cff0",
   "metadata": {},
   "outputs": [],
   "source": [
    "!mv  S2A_OPER_MSI_L1B_GR_2APS_20250724T145646_S20250724T112807_D06_N05.11 S2A_OPER_MSI_L1B_GR_2APS_20250724T145646_S20250724T112807_D06_N05.11.SAFE\n"
   ]
  },
  {
   "cell_type": "code",
   "execution_count": 1,
   "id": "bfe83942-45af-4352-938e-64e25e5cd40b",
   "metadata": {},
   "outputs": [
    {
     "name": "stderr",
     "output_type": "stream",
     "text": [
      "INFO:eopf.store.convert:MultiThread Convert enabled\n",
      "INFO:eopf.daskconfig.dask_context_manager:Initialising an ClusterType.LOCAL cluster with client conf : {} ,cluster config {'n_workers': 1} and dask config {}\n"
     ]
    },
    {
     "name": "stdout",
     "output_type": "stream",
     "text": [
      "/home/jovyan/grid4earth_S2L1B/S2A_OPER_MSI_L1B_GR_2APS_20250724T145646_S20250724T112807_D06_N05.11.zarr\n",
      "S2A_OPER_MSI_L1B_GR_2APS_20250724T145646_S20250724T112807_D06_N05.11.SAFE\n"
     ]
    },
    {
     "name": "stderr",
     "output_type": "stream",
     "text": [
      "INFO:distributed.http.proxy:To route to workers diagnostics web server please install jupyter-server-proxy: python -m pip install jupyter-server-proxy\n",
      "INFO:distributed.scheduler:State start\n",
      "INFO:distributed.scheduler:  Scheduler at:     tcp://127.0.0.1:41009\n",
      "INFO:distributed.scheduler:  dashboard at:  http://127.0.0.1:8787/status\n",
      "INFO:distributed.scheduler:Registering Worker plugin shuffle\n",
      "INFO:distributed.nanny:        Start Nanny at: 'tcp://127.0.0.1:46621'\n",
      "INFO:distributed.scheduler:Register worker <WorkerState 'tcp://127.0.0.1:44163', name: 0, status: init, memory: 0, processing: 0>\n",
      "INFO:distributed.scheduler:Starting worker compute stream, tcp://127.0.0.1:44163\n",
      "INFO:distributed.core:Starting established connection to tcp://127.0.0.1:48710\n",
      "INFO:eopf.daskconfig.dask_context_manager:DASK Cluster : LocalCluster(2535d34d, 'tcp://127.0.0.1:41009', workers=1, threads=8, memory=32.00 GiB)\n",
      "INFO:distributed.scheduler:Receive client connection: Client-e6b78366-6c50-11f0-95df-1e9ca55786e9\n",
      "INFO:distributed.core:Starting established connection to tcp://127.0.0.1:48720\n",
      "INFO:eopf.daskconfig.dask_context_manager:Dask Client : <Client: 'tcp://127.0.0.1:41009' processes=1 threads=8, memory=32.00 GiB>\n",
      "INFO:distributed.scheduler:Registering Worker plugin auto-gc\n",
      "INFO:eopf.daskconfig.dask_context_manager:Dask dashboard address: http://127.0.0.1:8787/status\n",
      "INFO:eopf.store.convert:Converting /home/jovyan/grid4earth_S2L1B/S2A_OPER_MSI_L1B_GR_2APS_20250724T145646_S20250724T112807_D06_N05.11.SAFE to /home/jovyan/grid4earth_S2L1B/S2A_OPER_MSI_L1B_GR_2APS_20250724T145646_S20250724T112807_D06_N05.11.zarr\n",
      "INFO:distributed.scheduler:Remove client Client-e6b78366-6c50-11f0-95df-1e9ca55786e9\n",
      "INFO:distributed.core:Received 'close-stream' from tcp://127.0.0.1:48720; closing.\n",
      "INFO:distributed.scheduler:Remove client Client-e6b78366-6c50-11f0-95df-1e9ca55786e9\n",
      "INFO:distributed.scheduler:Close client connection: Client-e6b78366-6c50-11f0-95df-1e9ca55786e9\n",
      "INFO:distributed.scheduler:Retire worker addresses (0,)\n",
      "INFO:distributed.nanny:Closing Nanny at 'tcp://127.0.0.1:46621'. Reason: nanny-close\n",
      "INFO:distributed.nanny:Nanny asking worker to close. Reason: nanny-close\n",
      "INFO:distributed.core:Received 'close-stream' from tcp://127.0.0.1:48710; closing.\n",
      "INFO:distributed.scheduler:Remove worker <WorkerState 'tcp://127.0.0.1:44163', name: 0, status: closing, memory: 0, processing: 0> (stimulus_id='handle-worker-cleanup-1753775522.3353293')\n",
      "INFO:distributed.scheduler:Lost all workers\n",
      "INFO:distributed.scheduler:Scheduler closing due to unknown reason...\n",
      "INFO:distributed.scheduler:Scheduler closing all comms\n"
     ]
    },
    {
     "ename": "MappingMissingError",
     "evalue": "No mapping found for url : /home/jovyan/grid4earth_S2L1B/S2A_OPER_MSI_L1B_GR_2APS_20250724T145646_S20250724T112807_D06_N05.11.SAFE",
     "output_type": "error",
     "traceback": [
      "\u001b[31m---------------------------------------------------------------------------\u001b[39m",
      "\u001b[31mMappingMissingError\u001b[39m                       Traceback (most recent call last)",
      "\u001b[36mCell\u001b[39m\u001b[36m \u001b[39m\u001b[32mIn[1]\u001b[39m\u001b[32m, line 14\u001b[39m\n\u001b[32m     10\u001b[39m \u001b[38;5;66;03m#convert( safe_filename, zarr_path, mask_and_scale=True)\u001b[39;00m\n\u001b[32m     11\u001b[39m \u001b[38;5;66;03m#safe_filename = 'tar:///home/jovyan/grid4earth_S2L1B/Sentinel-2/MSI/MSI_L1B_GR/2025/07/24/S2A_OPER_MSI_L1B_GR_2APS_20250724T145646_S20250724T112811_D06_N05.11.tar!S2A_OPER_MSI_L1B_GR_2APS_20250724T145646_S20250724T112811_D06_N05.11.SAFE'\u001b[39;00m\n\u001b[32m     13\u001b[39m \u001b[38;5;28mprint\u001b[39m(safe_filename)\n\u001b[32m---> \u001b[39m\u001b[32m14\u001b[39m \u001b[43mconvert\u001b[49m\u001b[43m(\u001b[49m\n\u001b[32m     15\u001b[39m \u001b[43m    \u001b[49m\u001b[43msafe_filename\u001b[49m\u001b[43m,\u001b[49m\n\u001b[32m     16\u001b[39m \u001b[43m    \u001b[49m\u001b[43mzarr_path\u001b[49m\u001b[43m,\u001b[49m\n\u001b[32m     17\u001b[39m \u001b[43m    \u001b[49m\u001b[43mmask_and_scale\u001b[49m\u001b[43m=\u001b[49m\u001b[38;5;28;43;01mTrue\u001b[39;49;00m\u001b[43m,\u001b[49m\n\u001b[32m     18\u001b[39m \u001b[43m    \u001b[49m\u001b[43msource_store_kwargs\u001b[49m\u001b[43m=\u001b[49m\u001b[43m{\u001b[49m\n\u001b[32m     19\u001b[39m \u001b[43m        \u001b[49m\u001b[33;43m\"\u001b[39;49m\u001b[33;43mproduct_level\u001b[39;49m\u001b[33;43m\"\u001b[39;49m\u001b[43m:\u001b[49m\u001b[43m \u001b[49m\u001b[33;43m\"\u001b[39;49m\u001b[33;43mL1B\u001b[39;49m\u001b[33;43m\"\u001b[39;49m\u001b[43m,\u001b[49m\n\u001b[32m     20\u001b[39m \n\u001b[32m     21\u001b[39m \u001b[43m    \u001b[49m\u001b[43m}\u001b[49m\n\u001b[32m     22\u001b[39m \u001b[43m)\u001b[49m\n",
      "\u001b[36mFile \u001b[39m\u001b[32m/srv/conda/envs/eopf/lib/python3.11/site-packages/eopf/store/convert.py:186\u001b[39m, in \u001b[36mconvert\u001b[39m\u001b[34m(source_path, target_path, target_format, mask_and_scale, source_store_kwargs, target_store_kwargs)\u001b[39m\n\u001b[32m    184\u001b[39m \u001b[38;5;66;03m# load the EOProduct from source_path\u001b[39;00m\n\u001b[32m    185\u001b[39m source_store = source_store_class(source_fspath.path, mask_and_scale=mask_and_scale, **source_store_kwargs)\n\u001b[32m--> \u001b[39m\u001b[32m186\u001b[39m \u001b[43msource_store\u001b[49m\u001b[43m.\u001b[49m\u001b[43mopen\u001b[49m\u001b[43m(\u001b[49m\u001b[43m)\u001b[49m\n\u001b[32m    187\u001b[39m eop: EOProduct | EOContainer | EOGroup = source_store.load()\n\u001b[32m    188\u001b[39m source_store.close()\n",
      "\u001b[36mFile \u001b[39m\u001b[32m/srv/conda/envs/eopf/lib/python3.11/site-packages/eopf/store/safe.py:818\u001b[39m, in \u001b[36mEOSafeStore.open\u001b[39m\u001b[34m(self, mode, **kwargs)\u001b[39m\n\u001b[32m    815\u001b[39m \u001b[38;5;28mself\u001b[39m._mapping, _ = \u001b[38;5;28mself\u001b[39m._mapping_manager.parse_mapping(\u001b[38;5;28mself\u001b[39m.url)\n\u001b[32m    817\u001b[39m \u001b[38;5;28;01mif\u001b[39;00m \u001b[38;5;28mself\u001b[39m._mapping \u001b[38;5;129;01mis\u001b[39;00m \u001b[38;5;28;01mNone\u001b[39;00m:\n\u001b[32m--> \u001b[39m\u001b[32m818\u001b[39m     \u001b[38;5;28;01mraise\u001b[39;00m MappingMissingError(\u001b[33mf\u001b[39m\u001b[33m\"\u001b[39m\u001b[33mNo mapping found for url : \u001b[39m\u001b[38;5;132;01m{\u001b[39;00m\u001b[38;5;28mself\u001b[39m.url\u001b[38;5;132;01m}\u001b[39;00m\u001b[33m\"\u001b[39m)\n\u001b[32m    820\u001b[39m \u001b[38;5;66;03m# get EOVariable kwargs\u001b[39;00m\n\u001b[32m    821\u001b[39m \u001b[38;5;28;01mif\u001b[39;00m \u001b[33m\"\u001b[39m\u001b[33meov_kwargs\u001b[39m\u001b[33m\"\u001b[39m \u001b[38;5;129;01min\u001b[39;00m kwargs:\n",
      "\u001b[31mMappingMissingError\u001b[39m: No mapping found for url : /home/jovyan/grid4earth_S2L1B/S2A_OPER_MSI_L1B_GR_2APS_20250724T145646_S20250724T112807_D06_N05.11.SAFE"
     ]
    }
   ],
   "source": [
    "import os\n",
    "from eopf.store.convert import convert\n",
    "current_dir = os.getcwd()\n",
    "safe_filename='./Sentinel-2/MSI/MSI_L1B_GR/2025/07/24/S2A_OPER_MSI_L1B_GR_2APS_20250724T011624_S20250724T000002_D01_N05.11.tar'\n",
    "#safe_filename='./Sentinel-2/MSI/MSI_L1B_GR/2025/07/24/S2A_OPER_MSI_L1B_GR_2APS_20250724T145646_S20250724T112807_D06_N05.11.SAFE'\n",
    "safe_filename='S2A_OPER_MSI_L1B_GR_2APS_20250724T145646_S20250724T112807_D06_N05.11.SAFE'\n",
    "zarr_filename=os.path.split(safe_filename)[1].replace('.SAFE', '.zarr')\n",
    "zarr_path = os.path.join(current_dir, zarr_filename)\n",
    "print(zarr_path)\n",
    "#convert( safe_filename, zarr_path, mask_and_scale=True)\n",
    "#safe_filename = 'tar:///home/jovyan/grid4earth_S2L1B/Sentinel-2/MSI/MSI_L1B_GR/2025/07/24/S2A_OPER_MSI_L1B_GR_2APS_20250724T145646_S20250724T112811_D06_N05.11.tar!S2A_OPER_MSI_L1B_GR_2APS_20250724T145646_S20250724T112811_D06_N05.11.SAFE'\n",
    "\n",
    "print(safe_filename)\n",
    "convert(\n",
    "    safe_filename,\n",
    "    zarr_path,\n",
    "    mask_and_scale=True,\n",
    "    source_store_kwargs={\n",
    "        \"product_level\": \"L1B\",\n",
    "    }\n",
    ")"
   ]
  },
  {
   "cell_type": "code",
   "execution_count": null,
   "id": "9b1f4e51-608d-41c6-86a9-93960c49477e",
   "metadata": {},
   "outputs": [],
   "source": []
  }
 ],
 "metadata": {
  "kernelspec": {
   "display_name": "Python [conda env:eopf]",
   "language": "python",
   "name": "conda-env-eopf-py"
  },
  "language_info": {
   "codemirror_mode": {
    "name": "ipython",
    "version": 3
   },
   "file_extension": ".py",
   "mimetype": "text/x-python",
   "name": "python",
   "nbconvert_exporter": "python",
   "pygments_lexer": "ipython3",
   "version": "3.11.4"
  }
 },
 "nbformat": 4,
 "nbformat_minor": 5
}
