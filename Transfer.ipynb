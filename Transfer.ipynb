{
 "cells": [
  {
   "cell_type": "code",
   "execution_count": null,
   "id": "d7d6ad0c-3373-4a20-bfb3-54ee4ac08e56",
   "metadata": {},
   "outputs": [],
   "source": [
    "import boto3\n",
    "from botocore.client import Config\n",
    "\n",
    "# Initialize S3 resource for MinIO\n",
    "minio_s3 = boto3.resource(\n",
    "    's3',\n",
    "    endpoint_url='https://pangeo-eosc-minioapi.vm.fedcloud.eu',  # MinIO API endpoint:contentReference[oaicite:4]{index=4}\n",
    "    aws_access_key_id=MINIO_ACCESS_KEY,\n",
    "    aws_secret_access_key=MINIO_SECRET_KEY,\n",
    "    region_name='us-east-1',  # or any region; required by boto3 but not used by MinIO\n",
    "    config=Config(signature_version='s3v4')  # Use V4 signatures for MinIO:contentReference[oaicite:5]{index=5}\n",
    ")\n",
    "source_bucket = s3.Bucket(\"eodata\")               # source bucket (Copernicus)\n",
    "dest_bucket   = minio_s3.Bucket(\"okihle-s2l1b\")   # destination bucket (MinIO)"
   ]
  },
  {
   "cell_type": "code",
   "execution_count": null,
   "id": "6cc4b38d-e092-4532-b135-4b047440df04",
   "metadata": {},
   "outputs": [],
   "source": [
    "prefix = \"Sentinel-2/MSI/MSI_L1B_GR/2025/07/24/\"\n",
    "for obj in source_bucket.objects.filter(Prefix=prefix):\n",
    "    if obj.key.endswith(\"/\"):\n",
    "        continue  # skip folder placeholders\n",
    "    print(f\"Copying {obj.key} ...\")\n",
    "    # Stream from source and upload to destination\n",
    "    source_response = source_bucket.Object(obj.key).get()\n",
    "    dest_bucket.upload_fileobj(source_response['Body'], obj.key)"
   ]
  }
 ],
 "metadata": {
  "kernelspec": {
   "display_name": "Python 3 (ipykernel)",
   "language": "python",
   "name": "python3"
  },
  "language_info": {
   "codemirror_mode": {
    "name": "ipython",
    "version": 3
   },
   "file_extension": ".py",
   "mimetype": "text/x-python",
   "name": "python",
   "nbconvert_exporter": "python",
   "pygments_lexer": "ipython3",
   "version": "3.12.10"
  }
 },
 "nbformat": 4,
 "nbformat_minor": 5
}
